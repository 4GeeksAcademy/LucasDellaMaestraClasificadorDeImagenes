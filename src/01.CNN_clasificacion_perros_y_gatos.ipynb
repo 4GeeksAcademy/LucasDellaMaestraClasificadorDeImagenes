{
 "cells": [
  {
   "cell_type": "markdown",
   "id": "987468de-036c-43f8-aef9-acef8fe9f972",
   "metadata": {},
   "source": [
    "![Texto alternativo](perros_gatos.png)"
   ]
  },
  {
   "cell_type": "code",
   "execution_count": 3,
   "id": "b0cc857b-dc54-4078-bd1b-933280a8c0f1",
   "metadata": {},
   "outputs": [],
   "source": [
    "import numpy as np\n",
    "import tensorflow as tf\n",
    "from tensorflow.keras.models import Sequential\n",
    "from tensorflow.keras.layers import Conv2D, MaxPooling2D, Flatten, Dense\n",
    "from sklearn.metrics import roc_auc_score, roc_curve\n",
    "import matplotlib.pyplot as plt\n",
    "\n"
   ]
  },
  {
   "cell_type": "code",
   "execution_count": 4,
   "id": "0a0823a7-882d-407f-bba6-e6dd01771ba2",
   "metadata": {},
   "outputs": [],
   "source": [
    "# Paso 1: Cargar CIFAR-10 y filtrar gatos (label 3) y perros (label 5)\n",
    "(X_train_full, y_train_full), (X_test_full, y_test_full) = tf.keras.datasets.cifar10.load_data()"
   ]
  },
  {
   "cell_type": "markdown",
   "id": "38eb2b7e-e9f3-416b-af1c-aec4f2f0b8e6",
   "metadata": {},
   "source": [
    "| Label | Clase                       |\n",
    "|-------|-----------------------------|\n",
    "| 0     | avión (airplane) ✈️         |\n",
    "| 1     | automóvil (automobile) 🚗    |\n",
    "| 2     | pájaro (bird) 🐦             |\n",
    "| 3     | gato (cat) 🐱                |\n",
    "| 4     | ciervo (deer) 🦌             |\n",
    "| 5     | perro (dog) 🐶               |\n",
    "| 6     | rana (frog) 🐸               |\n",
    "| 7     | caballo (horse) 🐴           |\n",
    "| 8     | barco (ship) 🚢              |\n",
    "| 9     | camión (truck) 🚚            |\n"
   ]
  },
  {
   "cell_type": "code",
   "execution_count": 5,
   "id": "dd5333da-a0c6-43af-aa4c-ca089f835260",
   "metadata": {},
   "outputs": [],
   "source": [
    "\n",
    "# Aplanamos las etiquetas para trabajar fácilmente\n",
    "y_train_full = y_train_full.flatten()\n",
    "y_test_full = y_test_full.flatten()"
   ]
  },
  {
   "cell_type": "code",
   "execution_count": 6,
   "id": "ee21f67e-3acf-46ff-9796-ba4f2932942d",
   "metadata": {},
   "outputs": [
    {
     "data": {
      "text/plain": [
       "array([6, 9, 9, ..., 9, 1, 1], dtype=uint8)"
      ]
     },
     "execution_count": 6,
     "metadata": {},
     "output_type": "execute_result"
    }
   ],
   "source": [
    "y_train_full"
   ]
  },
  {
   "cell_type": "code",
   "execution_count": 7,
   "id": "f0071842-9032-4661-b77f-9d120903364d",
   "metadata": {},
   "outputs": [],
   "source": [
    "# Filtramos solo gatos (3) y perros (5)\n",
    "train_filter = np.where((y_train_full == 3) | (y_train_full == 5))\n",
    "test_filter = np.where((y_test_full == 3) | (y_test_full == 5))"
   ]
  },
  {
   "cell_type": "code",
   "execution_count": 8,
   "id": "da43aaec-eff0-4a84-9011-4fe8f23e3e20",
   "metadata": {},
   "outputs": [
    {
     "data": {
      "text/plain": [
       "(array([    9,    17,    21, ..., 49982, 49983, 49988]),)"
      ]
     },
     "execution_count": 8,
     "metadata": {},
     "output_type": "execute_result"
    }
   ],
   "source": [
    "train_filter"
   ]
  },
  {
   "cell_type": "code",
   "execution_count": 9,
   "id": "e4b4bbd9-8b45-4f4f-9597-75fcb5c5c9e2",
   "metadata": {},
   "outputs": [
    {
     "data": {
      "text/plain": [
       "tuple"
      ]
     },
     "execution_count": 9,
     "metadata": {},
     "output_type": "execute_result"
    }
   ],
   "source": [
    "type(test_filter)"
   ]
  },
  {
   "cell_type": "code",
   "execution_count": 10,
   "id": "52ca2d02-d50f-4c5b-af52-095726bf4f00",
   "metadata": {},
   "outputs": [],
   "source": [
    "X_train, y_train = X_train_full[train_filter], y_train_full[train_filter]\n",
    "X_test, y_test = X_test_full[test_filter], y_test_full[test_filter]"
   ]
  },
  {
   "cell_type": "code",
   "execution_count": 11,
   "id": "7ea5dd7d-e458-4b5e-ab3e-828e47569810",
   "metadata": {},
   "outputs": [
    {
     "data": {
      "text/plain": [
       "array([[[[125, 125, 116],\n",
       "         [110, 101,  91],\n",
       "         [102,  90,  83],\n",
       "         ...,\n",
       "         [202, 207, 214],\n",
       "         [200, 205, 212],\n",
       "         [202, 208, 214]],\n",
       "\n",
       "        [[142, 146, 142],\n",
       "         [146, 144, 139],\n",
       "         [176, 172, 170],\n",
       "         ...,\n",
       "         [195, 201, 205],\n",
       "         [198, 205, 209],\n",
       "         [204, 211, 215]],\n",
       "\n",
       "        [[180, 185, 183],\n",
       "         [143, 146, 146],\n",
       "         [156, 157, 157],\n",
       "         ...,\n",
       "         [122, 111, 113],\n",
       "         [139, 128, 131],\n",
       "         [158, 147, 150]],\n",
       "\n",
       "        ...,\n",
       "\n",
       "        [[104,  82,  41],\n",
       "         [101,  80,  39],\n",
       "         [101,  81,  38],\n",
       "         ...,\n",
       "         [126, 103,  67],\n",
       "         [126, 103,  69],\n",
       "         [125, 101,  68]],\n",
       "\n",
       "        [[104,  81,  40],\n",
       "         [105,  84,  41],\n",
       "         [109,  88,  43],\n",
       "         ...,\n",
       "         [138, 113,  78],\n",
       "         [137, 113,  80],\n",
       "         [137, 112,  81]],\n",
       "\n",
       "        [[105,  83,  42],\n",
       "         [108,  87,  45],\n",
       "         [115,  94,  50],\n",
       "         ...,\n",
       "         [143, 117,  82],\n",
       "         [143, 116,  84],\n",
       "         [144, 116,  86]]],\n",
       "\n",
       "\n",
       "       [[[110, 104,  97],\n",
       "         [142, 135, 118],\n",
       "         [151, 146, 120],\n",
       "         ...,\n",
       "         [ 39,  39,  39],\n",
       "         [ 40,  40,  40],\n",
       "         [ 38,  38,  38]],\n",
       "\n",
       "        [[109, 103,  95],\n",
       "         [141, 133, 115],\n",
       "         [152, 147, 119],\n",
       "         ...,\n",
       "         [ 36,  36,  37],\n",
       "         [ 40,  40,  40],\n",
       "         [ 36,  36,  36]],\n",
       "\n",
       "        [[105,  98,  90],\n",
       "         [142, 133, 114],\n",
       "         [151, 145, 117],\n",
       "         ...,\n",
       "         [ 39,  39,  41],\n",
       "         [ 44,  44,  45],\n",
       "         [ 39,  39,  40]],\n",
       "\n",
       "        ...,\n",
       "\n",
       "        [[ 62,  59,  60],\n",
       "         [ 39,  38,  49],\n",
       "         [ 60,  64,  81],\n",
       "         ...,\n",
       "         [ 42,  44,  56],\n",
       "         [ 46,  44,  55],\n",
       "         [ 47,  44,  55]],\n",
       "\n",
       "        [[ 62,  57,  56],\n",
       "         [ 52,  51,  61],\n",
       "         [ 58,  61,  78],\n",
       "         ...,\n",
       "         [ 43,  46,  58],\n",
       "         [ 47,  45,  58],\n",
       "         [ 49,  46,  60]],\n",
       "\n",
       "        [[ 55,  51,  50],\n",
       "         [ 60,  60,  71],\n",
       "         [ 56,  60,  78],\n",
       "         ...,\n",
       "         [ 45,  48,  60],\n",
       "         [ 47,  46,  60],\n",
       "         [ 51,  48,  62]]],\n",
       "\n",
       "\n",
       "       [[[252,   8,  42],\n",
       "         [249,  15,  42],\n",
       "         [250,   8,  39],\n",
       "         ...,\n",
       "         [251,   1,  11],\n",
       "         [251,   0,  15],\n",
       "         [251,   1,  30]],\n",
       "\n",
       "        [[255,   7,  43],\n",
       "         [252,  15,  44],\n",
       "         [253,  13,  42],\n",
       "         ...,\n",
       "         [255,   1,  11],\n",
       "         [255,   0,  18],\n",
       "         [254,   4,  33]],\n",
       "\n",
       "        [[253,   6,  42],\n",
       "         [250,  16,  42],\n",
       "         [250,  24,  43],\n",
       "         ...,\n",
       "         [254,   1,  10],\n",
       "         [254,   0,  20],\n",
       "         [252,   9,  37]],\n",
       "\n",
       "        ...,\n",
       "\n",
       "        [[254,  66,  94],\n",
       "         [252,  62,  92],\n",
       "         [253,  64,  93],\n",
       "         ...,\n",
       "         [252,  70, 101],\n",
       "         [253,  69, 103],\n",
       "         [252,  70, 104]],\n",
       "\n",
       "        [[250,  49,  81],\n",
       "         [252,  53,  82],\n",
       "         [255,  59,  86],\n",
       "         ...,\n",
       "         [254,  70, 103],\n",
       "         [255,  68, 100],\n",
       "         [254,  59,  89]],\n",
       "\n",
       "        [[236,  37,  68],\n",
       "         [249,  48,  76],\n",
       "         [250,  42,  73],\n",
       "         ...,\n",
       "         [250,  78, 113],\n",
       "         [250,  74, 109],\n",
       "         [251,  58,  88]]],\n",
       "\n",
       "\n",
       "       ...,\n",
       "\n",
       "\n",
       "       [[[ 41,  41,  41],\n",
       "         [ 39,  39,  37],\n",
       "         [ 39,  39,  36],\n",
       "         ...,\n",
       "         [100,  83,  57],\n",
       "         [ 85,  70,  49],\n",
       "         [103,  85,  58]],\n",
       "\n",
       "        [[ 41,  41,  41],\n",
       "         [ 40,  40,  38],\n",
       "         [ 41,  41,  39],\n",
       "         ...,\n",
       "         [101,  83,  57],\n",
       "         [ 86,  69,  50],\n",
       "         [104,  85,  59]],\n",
       "\n",
       "        [[ 41,  41,  41],\n",
       "         [ 40,  40,  38],\n",
       "         [ 40,  40,  38],\n",
       "         ...,\n",
       "         [102,  83,  56],\n",
       "         [ 85,  67,  49],\n",
       "         [ 94,  74,  49]],\n",
       "\n",
       "        ...,\n",
       "\n",
       "        [[ 56,  44,  38],\n",
       "         [ 56,  43,  37],\n",
       "         [ 55,  43,  37],\n",
       "         ...,\n",
       "         [ 85,  57,  43],\n",
       "         [ 86,  58,  45],\n",
       "         [ 86,  58,  46]],\n",
       "\n",
       "        [[ 58,  44,  38],\n",
       "         [ 57,  43,  37],\n",
       "         [ 57,  43,  37],\n",
       "         ...,\n",
       "         [ 84,  57,  47],\n",
       "         [ 84,  57,  45],\n",
       "         [ 87,  60,  46]],\n",
       "\n",
       "        [[ 60,  45,  38],\n",
       "         [ 60,  45,  38],\n",
       "         [ 59,  44,  37],\n",
       "         ...,\n",
       "         [ 80,  56,  44],\n",
       "         [ 82,  56,  44],\n",
       "         [ 85,  59,  45]]],\n",
       "\n",
       "\n",
       "       [[[ 41,  29,  21],\n",
       "         [ 43,  28,  20],\n",
       "         [ 43,  26,  16],\n",
       "         ...,\n",
       "         [ 62,  42,  28],\n",
       "         [ 61,  39,  20],\n",
       "         [ 58,  35,  16]],\n",
       "\n",
       "        [[ 43,  29,  21],\n",
       "         [ 45,  28,  20],\n",
       "         [ 46,  28,  17],\n",
       "         ...,\n",
       "         [ 88,  68,  56],\n",
       "         [ 61,  40,  23],\n",
       "         [ 60,  37,  21]],\n",
       "\n",
       "        [[ 45,  28,  22],\n",
       "         [ 45,  27,  19],\n",
       "         [ 46,  27,  17],\n",
       "         ...,\n",
       "         [131, 113, 102],\n",
       "         [ 69,  50,  37],\n",
       "         [ 58,  37,  24]],\n",
       "\n",
       "        ...,\n",
       "\n",
       "        [[165, 155, 145],\n",
       "         [160, 147, 138],\n",
       "         [148, 132, 124],\n",
       "         ...,\n",
       "         [230, 207, 196],\n",
       "         [228, 201, 189],\n",
       "         [238, 203, 195]],\n",
       "\n",
       "        [[162, 152, 142],\n",
       "         [161, 150, 140],\n",
       "         [148, 135, 126],\n",
       "         ...,\n",
       "         [237, 212, 203],\n",
       "         [244, 222, 214],\n",
       "         [252, 225, 220]],\n",
       "\n",
       "        [[157, 147, 137],\n",
       "         [159, 149, 139],\n",
       "         [150, 140, 130],\n",
       "         ...,\n",
       "         [248, 216, 212],\n",
       "         [252, 225, 222],\n",
       "         [242, 208, 205]]],\n",
       "\n",
       "\n",
       "       [[[161, 166, 159],\n",
       "         [172, 177, 170],\n",
       "         [176, 181, 174],\n",
       "         ...,\n",
       "         [150, 159, 142],\n",
       "         [158, 167, 150],\n",
       "         [154, 163, 146]],\n",
       "\n",
       "        [[148, 153, 146],\n",
       "         [147, 152, 145],\n",
       "         [146, 151, 144],\n",
       "         ...,\n",
       "         [140, 149, 132],\n",
       "         [143, 152, 135],\n",
       "         [143, 152, 135]],\n",
       "\n",
       "        [[167, 172, 165],\n",
       "         [176, 181, 174],\n",
       "         [170, 175, 168],\n",
       "         ...,\n",
       "         [153, 162, 145],\n",
       "         [155, 164, 147],\n",
       "         [154, 163, 146]],\n",
       "\n",
       "        ...,\n",
       "\n",
       "        [[138,  95,  63],\n",
       "         [123,  78,  46],\n",
       "         [144, 100,  63],\n",
       "         ...,\n",
       "         [118, 101,  81],\n",
       "         [114,  99,  80],\n",
       "         [106,  93,  75]],\n",
       "\n",
       "        [[147, 103,  69],\n",
       "         [155, 110,  73],\n",
       "         [133,  89,  53],\n",
       "         ...,\n",
       "         [118, 101,  78],\n",
       "         [119, 102,  80],\n",
       "         [121, 104,  83]],\n",
       "\n",
       "        [[143,  99,  67],\n",
       "         [152, 107,  72],\n",
       "         [134,  89,  54],\n",
       "         ...,\n",
       "         [120, 102,  79],\n",
       "         [121, 102,  78],\n",
       "         [122, 102,  78]]]], dtype=uint8)"
      ]
     },
     "execution_count": 11,
     "metadata": {},
     "output_type": "execute_result"
    }
   ],
   "source": [
    "X_train"
   ]
  },
  {
   "cell_type": "code",
   "execution_count": null,
   "id": "50324578-1b44-4040-bd4d-81989a5c0b8f",
   "metadata": {},
   "outputs": [],
   "source": []
  },
  {
   "cell_type": "code",
   "execution_count": 12,
   "id": "bde64b50-90fb-4850-a136-28f53e75a693",
   "metadata": {},
   "outputs": [
    {
     "data": {
      "image/png": "[encoded data removed]",
      "text/plain": [
       "<Figure size 1000x200 with 5 Axes>"
      ]
     },
     "metadata": {},
     "output_type": "display_data"
    }
   ],
   "source": [
    "class_names = ['airplane', 'automobile', 'bird', 'cat', 'deer',\n",
    "               'dog', 'frog', 'horse', 'ship', 'truck']\n",
    "# Buscar índices de gatos (3) y perros (5)\n",
    "indices = np.where((y_train == 3) | (y_train == 5))[0]\n",
    "\n",
    "# Mostrar las primeras 5 imágenes de gatos/perros\n",
    "plt.figure(figsize=(10, 2))\n",
    "for i, idx in enumerate(indices[:5]):\n",
    "    plt.subplot(1, 5, i + 1)\n",
    "    plt.imshow(X_train[idx])\n",
    "    label = class_names[y_train[idx]]\n",
    "    plt.title(label)\n",
    "    plt.axis('off')\n",
    "\n",
    "plt.tight_layout()\n",
    "plt.show()"
   ]
  },
  {
   "cell_type": "code",
   "execution_count": 13,
   "id": "6a74586f-d730-4cab-9652-95eb61812d51",
   "metadata": {},
   "outputs": [],
   "source": [
    "# Convertimos a etiquetas binarias: gato = 0, perro = 1\n",
    "y_train = (y_train == 5).astype(np.uint8) # true en 1 (perro) , false en 0 (gato).\n",
    "y_test = (y_test == 5).astype(np.uint8)"
   ]
  },
  {
   "cell_type": "code",
   "execution_count": 14,
   "id": "d3c97562-29a4-45d2-81ee-932670d62d51",
   "metadata": {},
   "outputs": [
    {
     "data": {
      "text/plain": [
       "numpy.ndarray"
      ]
     },
     "execution_count": 14,
     "metadata": {},
     "output_type": "execute_result"
    }
   ],
   "source": [
    "type(X_train)"
   ]
  },
  {
   "cell_type": "code",
   "execution_count": 15,
   "id": "a081b548-a5e5-4b7c-9a66-3d5c2a11820b",
   "metadata": {},
   "outputs": [
    {
     "data": {
      "text/plain": [
       "10000"
      ]
     },
     "execution_count": 15,
     "metadata": {},
     "output_type": "execute_result"
    }
   ],
   "source": [
    "len(X_train)"
   ]
  },
  {
   "cell_type": "code",
   "execution_count": 16,
   "id": "27db37cf-2315-48de-9ea8-62789c8394f7",
   "metadata": {},
   "outputs": [
    {
     "data": {
      "text/plain": [
       "(32, 32, 3)"
      ]
     },
     "execution_count": 16,
     "metadata": {},
     "output_type": "execute_result"
    }
   ],
   "source": [
    "X_train[0].shape"
   ]
  },
  {
   "cell_type": "code",
   "execution_count": 17,
   "id": "1c747d66-d171-4e2b-9e8a-4357a0986f7a",
   "metadata": {},
   "outputs": [
    {
     "data": {
      "text/plain": [
       "array([0, 0, 0, ..., 0, 0, 1], dtype=uint8)"
      ]
     },
     "execution_count": 17,
     "metadata": {},
     "output_type": "execute_result"
    }
   ],
   "source": [
    "y_train"
   ]
  },
  {
   "cell_type": "code",
   "execution_count": 18,
   "id": "6711832f-3a91-4182-b839-7ae9eae886f3",
   "metadata": {},
   "outputs": [
    {
     "data": {
      "text/plain": [
       "array([0, 0, 1, ..., 0, 0, 1], dtype=uint8)"
      ]
     },
     "execution_count": 18,
     "metadata": {},
     "output_type": "execute_result"
    }
   ],
   "source": [
    "y_test"
   ]
  },
  {
   "cell_type": "code",
   "execution_count": 19,
   "id": "80b4b130-38c7-4163-8922-437d8ccd2c6b",
   "metadata": {},
   "outputs": [],
   "source": [
    "# Normalizamos las imágenes [0,1]\n",
    "X_train = X_train / 255.0\n",
    "X_test = X_test / 255.0"
   ]
  },
  {
   "cell_type": "code",
   "execution_count": 20,
   "id": "6cfccf30-f576-4e26-a0a3-9da94a8312d7",
   "metadata": {},
   "outputs": [
    {
     "name": "stdout",
     "output_type": "stream",
     "text": [
      "X_train shape: (10000, 32, 32, 3), y_train shape: (10000,)\n"
     ]
    }
   ],
   "source": [
    "print(f\"X_train shape: {X_train.shape}, y_train shape: {y_train.shape}\")"
   ]
  },
  {
   "cell_type": "code",
   "execution_count": 21,
   "id": "163b4dc4-97c8-4a84-819b-3d6b64db8e20",
   "metadata": {},
   "outputs": [
    {
     "name": "stderr",
     "output_type": "stream",
     "text": [
      "/workspaces/LucasDellaMaestraClasificadorDeImagenes/.venv/lib/python3.11/site-packages/keras/src/layers/convolutional/base_conv.py:107: UserWarning: Do not pass an `input_shape`/`input_dim` argument to a layer. When using Sequential models, prefer using an `Input(shape)` object as the first layer in the model instead.\n",
      "  super().__init__(activity_regularizer=activity_regularizer, **kwargs)\n",
      "2025-05-12 22:44:27.952393: E external/local_xla/xla/stream_executor/cuda/cuda_platform.cc:51] failed call to cuInit: INTERNAL: CUDA error: Failed call to cuInit: UNKNOWN ERROR (303)\n"
     ]
    },
    {
     "data": {
      "text/html": [
       "<pre style=\"white-space:pre;overflow-x:auto;line-height:normal;font-family:Menlo,'DejaVu Sans Mono',consolas,'Courier New',monospace\"><span style=\"font-weight: bold\">Model: \"sequential\"</span>\n",
       "</pre>\n"
      ],
      "text/plain": [
       "\u001b[1mModel: \"sequential\"\u001b[0m\n"
      ]
     },
     "metadata": {},
     "output_type": "display_data"
    },
    {
     "data": {
      "text/html": [
       "<pre style=\"white-space:pre;overflow-x:auto;line-height:normal;font-family:Menlo,'DejaVu Sans Mono',consolas,'Courier New',monospace\">┏━━━━━━━━━━━━━━━━━━━━━━━━━━━━━━━━━┳━━━━━━━━━━━━━━━━━━━━━━━━┳━━━━━━━━━━━━━━━┓\n",
       "┃<span style=\"font-weight: bold\"> Layer (type)                    </span>┃<span style=\"font-weight: bold\"> Output Shape           </span>┃<span style=\"font-weight: bold\">       Param # </span>┃\n",
       "┡━━━━━━━━━━━━━━━━━━━━━━━━━━━━━━━━━╇━━━━━━━━━━━━━━━━━━━━━━━━╇━━━━━━━━━━━━━━━┩\n",
       "│ conv2d (<span style=\"color: #0087ff; text-decoration-color: #0087ff\">Conv2D</span>)                 │ (<span style=\"color: #00d7ff; text-decoration-color: #00d7ff\">None</span>, <span style=\"color: #00af00; text-decoration-color: #00af00\">30</span>, <span style=\"color: #00af00; text-decoration-color: #00af00\">30</span>, <span style=\"color: #00af00; text-decoration-color: #00af00\">32</span>)     │           <span style=\"color: #00af00; text-decoration-color: #00af00\">896</span> │\n",
       "├─────────────────────────────────┼────────────────────────┼───────────────┤\n",
       "│ max_pooling2d (<span style=\"color: #0087ff; text-decoration-color: #0087ff\">MaxPooling2D</span>)    │ (<span style=\"color: #00d7ff; text-decoration-color: #00d7ff\">None</span>, <span style=\"color: #00af00; text-decoration-color: #00af00\">15</span>, <span style=\"color: #00af00; text-decoration-color: #00af00\">15</span>, <span style=\"color: #00af00; text-decoration-color: #00af00\">32</span>)     │             <span style=\"color: #00af00; text-decoration-color: #00af00\">0</span> │\n",
       "├─────────────────────────────────┼────────────────────────┼───────────────┤\n",
       "│ conv2d_1 (<span style=\"color: #0087ff; text-decoration-color: #0087ff\">Conv2D</span>)               │ (<span style=\"color: #00d7ff; text-decoration-color: #00d7ff\">None</span>, <span style=\"color: #00af00; text-decoration-color: #00af00\">13</span>, <span style=\"color: #00af00; text-decoration-color: #00af00\">13</span>, <span style=\"color: #00af00; text-decoration-color: #00af00\">64</span>)     │        <span style=\"color: #00af00; text-decoration-color: #00af00\">18,496</span> │\n",
       "├─────────────────────────────────┼────────────────────────┼───────────────┤\n",
       "│ max_pooling2d_1 (<span style=\"color: #0087ff; text-decoration-color: #0087ff\">MaxPooling2D</span>)  │ (<span style=\"color: #00d7ff; text-decoration-color: #00d7ff\">None</span>, <span style=\"color: #00af00; text-decoration-color: #00af00\">6</span>, <span style=\"color: #00af00; text-decoration-color: #00af00\">6</span>, <span style=\"color: #00af00; text-decoration-color: #00af00\">64</span>)       │             <span style=\"color: #00af00; text-decoration-color: #00af00\">0</span> │\n",
       "├─────────────────────────────────┼────────────────────────┼───────────────┤\n",
       "│ flatten (<span style=\"color: #0087ff; text-decoration-color: #0087ff\">Flatten</span>)               │ (<span style=\"color: #00d7ff; text-decoration-color: #00d7ff\">None</span>, <span style=\"color: #00af00; text-decoration-color: #00af00\">2304</span>)           │             <span style=\"color: #00af00; text-decoration-color: #00af00\">0</span> │\n",
       "├─────────────────────────────────┼────────────────────────┼───────────────┤\n",
       "│ dense (<span style=\"color: #0087ff; text-decoration-color: #0087ff\">Dense</span>)                   │ (<span style=\"color: #00d7ff; text-decoration-color: #00d7ff\">None</span>, <span style=\"color: #00af00; text-decoration-color: #00af00\">64</span>)             │       <span style=\"color: #00af00; text-decoration-color: #00af00\">147,520</span> │\n",
       "├─────────────────────────────────┼────────────────────────┼───────────────┤\n",
       "│ dense_1 (<span style=\"color: #0087ff; text-decoration-color: #0087ff\">Dense</span>)                 │ (<span style=\"color: #00d7ff; text-decoration-color: #00d7ff\">None</span>, <span style=\"color: #00af00; text-decoration-color: #00af00\">1</span>)              │            <span style=\"color: #00af00; text-decoration-color: #00af00\">65</span> │\n",
       "└─────────────────────────────────┴────────────────────────┴───────────────┘\n",
       "</pre>\n"
      ],
      "text/plain": [
       "┏━━━━━━━━━━━━━━━━━━━━━━━━━━━━━━━━━┳━━━━━━━━━━━━━━━━━━━━━━━━┳━━━━━━━━━━━━━━━┓\n",
       "┃\u001b[1m \u001b[0m\u001b[1mLayer (type)                   \u001b[0m\u001b[1m \u001b[0m┃\u001b[1m \u001b[0m\u001b[1mOutput Shape          \u001b[0m\u001b[1m \u001b[0m┃\u001b[1m \u001b[0m\u001b[1m      Param #\u001b[0m\u001b[1m \u001b[0m┃\n",
       "┡━━━━━━━━━━━━━━━━━━━━━━━━━━━━━━━━━╇━━━━━━━━━━━━━━━━━━━━━━━━╇━━━━━━━━━━━━━━━┩\n",
       "│ conv2d (\u001b[38;5;33mConv2D\u001b[0m)                 │ (\u001b[38;5;45mNone\u001b[0m, \u001b[38;5;34m30\u001b[0m, \u001b[38;5;34m30\u001b[0m, \u001b[38;5;34m32\u001b[0m)     │           \u001b[38;5;34m896\u001b[0m │\n",
       "├─────────────────────────────────┼────────────────────────┼───────────────┤\n",
       "│ max_pooling2d (\u001b[38;5;33mMaxPooling2D\u001b[0m)    │ (\u001b[38;5;45mNone\u001b[0m, \u001b[38;5;34m15\u001b[0m, \u001b[38;5;34m15\u001b[0m, \u001b[38;5;34m32\u001b[0m)     │             \u001b[38;5;34m0\u001b[0m │\n",
       "├─────────────────────────────────┼────────────────────────┼───────────────┤\n",
       "│ conv2d_1 (\u001b[38;5;33mConv2D\u001b[0m)               │ (\u001b[38;5;45mNone\u001b[0m, \u001b[38;5;34m13\u001b[0m, \u001b[38;5;34m13\u001b[0m, \u001b[38;5;34m64\u001b[0m)     │        \u001b[38;5;34m18,496\u001b[0m │\n",
       "├─────────────────────────────────┼────────────────────────┼───────────────┤\n",
       "│ max_pooling2d_1 (\u001b[38;5;33mMaxPooling2D\u001b[0m)  │ (\u001b[38;5;45mNone\u001b[0m, \u001b[38;5;34m6\u001b[0m, \u001b[38;5;34m6\u001b[0m, \u001b[38;5;34m64\u001b[0m)       │             \u001b[38;5;34m0\u001b[0m │\n",
       "├─────────────────────────────────┼────────────────────────┼───────────────┤\n",
       "│ flatten (\u001b[38;5;33mFlatten\u001b[0m)               │ (\u001b[38;5;45mNone\u001b[0m, \u001b[38;5;34m2304\u001b[0m)           │             \u001b[38;5;34m0\u001b[0m │\n",
       "├─────────────────────────────────┼────────────────────────┼───────────────┤\n",
       "│ dense (\u001b[38;5;33mDense\u001b[0m)                   │ (\u001b[38;5;45mNone\u001b[0m, \u001b[38;5;34m64\u001b[0m)             │       \u001b[38;5;34m147,520\u001b[0m │\n",
       "├─────────────────────────────────┼────────────────────────┼───────────────┤\n",
       "│ dense_1 (\u001b[38;5;33mDense\u001b[0m)                 │ (\u001b[38;5;45mNone\u001b[0m, \u001b[38;5;34m1\u001b[0m)              │            \u001b[38;5;34m65\u001b[0m │\n",
       "└─────────────────────────────────┴────────────────────────┴───────────────┘\n"
      ]
     },
     "metadata": {},
     "output_type": "display_data"
    },
    {
     "data": {
      "text/html": [
       "<pre style=\"white-space:pre;overflow-x:auto;line-height:normal;font-family:Menlo,'DejaVu Sans Mono',consolas,'Courier New',monospace\"><span style=\"font-weight: bold\"> Total params: </span><span style=\"color: #00af00; text-decoration-color: #00af00\">166,977</span> (652.25 KB)\n",
       "</pre>\n"
      ],
      "text/plain": [
       "\u001b[1m Total params: \u001b[0m\u001b[38;5;34m166,977\u001b[0m (652.25 KB)\n"
      ]
     },
     "metadata": {},
     "output_type": "display_data"
    },
    {
     "data": {
      "text/html": [
       "<pre style=\"white-space:pre;overflow-x:auto;line-height:normal;font-family:Menlo,'DejaVu Sans Mono',consolas,'Courier New',monospace\"><span style=\"font-weight: bold\"> Trainable params: </span><span style=\"color: #00af00; text-decoration-color: #00af00\">166,977</span> (652.25 KB)\n",
       "</pre>\n"
      ],
      "text/plain": [
       "\u001b[1m Trainable params: \u001b[0m\u001b[38;5;34m166,977\u001b[0m (652.25 KB)\n"
      ]
     },
     "metadata": {},
     "output_type": "display_data"
    },
    {
     "data": {
      "text/html": [
       "<pre style=\"white-space:pre;overflow-x:auto;line-height:normal;font-family:Menlo,'DejaVu Sans Mono',consolas,'Courier New',monospace\"><span style=\"font-weight: bold\"> Non-trainable params: </span><span style=\"color: #00af00; text-decoration-color: #00af00\">0</span> (0.00 B)\n",
       "</pre>\n"
      ],
      "text/plain": [
       "\u001b[1m Non-trainable params: \u001b[0m\u001b[38;5;34m0\u001b[0m (0.00 B)\n"
      ]
     },
     "metadata": {},
     "output_type": "display_data"
    }
   ],
   "source": [
    "model = Sequential([\n",
    "\n",
    "    # Capa 1: Convolucional\n",
    "    Conv2D(\n",
    "        filters=32,               # 🧩 Número de filtros\n",
    "        kernel_size=(3, 3),       # 📏 Tamaño del filtro (kernel)\n",
    "        activation='relu',       # ⚡ Función de activación\n",
    "        input_shape=(32, 32, 3)   # 📷 Tamaño de la imagen de entrada (alto, ancho, canales)\n",
    "    ),\n",
    "\n",
    "    # Capa 2: MaxPooling\n",
    "    MaxPooling2D(\n",
    "        pool_size=(2, 2)          # 🌀 Tamaño de la ventana de pooling (reducción de tamaño)\n",
    "    ),\n",
    "\n",
    "    # Capa 3: Convolucional\n",
    "    Conv2D(\n",
    "        filters=64,               # 🧩 Más filtros para capturar más patrones complejos\n",
    "        kernel_size=(3, 3),       # 📏 Mismo tamaño de kernel\n",
    "        activation='relu'        # ⚡ Activación ReLU\n",
    "    ),\n",
    "\n",
    "    # Capa 4: MaxPooling\n",
    "    MaxPooling2D(\n",
    "        pool_size=(2, 2)          # 🌀 Mismo tamaño de pooling\n",
    "    ),\n",
    "\n",
    "    # Capa 5: Aplanar los mapas de activación\n",
    "    Flatten(),                   # 🔁 Convierte la salida 2D a un vector 1D\n",
    "\n",
    "    # Capa 6: Densa (oculta)\n",
    "    Dense(\n",
    "        units=64,                # 🔢 Número de neuronas\n",
    "        activation='relu'        # ⚡ Activación ReLU\n",
    "    ),\n",
    "\n",
    "    # Capa 7: Densa (salida)\n",
    "    Dense(\n",
    "        units=1,                 # 🔘 Clasificación binaria (0 o 1)\n",
    "        activation='sigmoid'     # ✅ Activación Sigmoide para salida entre 0 y 1\n",
    "    )\n",
    "])\n",
    "\n",
    "\n",
    "model.compile(optimizer='adam',\n",
    "              loss='binary_crossentropy',\n",
    "              metrics=[tf.keras.metrics.AUC(name='auc')])\n",
    "\n",
    "model.summary()"
   ]
  },
  {
   "cell_type": "code",
   "execution_count": 22,
   "id": "be00414b-0ac3-40d8-83a3-242e6a65a940",
   "metadata": {},
   "outputs": [
    {
     "data": {
      "text/plain": [
       "10000"
      ]
     },
     "execution_count": 22,
     "metadata": {},
     "output_type": "execute_result"
    }
   ],
   "source": [
    "len(X_train)"
   ]
  },
  {
   "cell_type": "code",
   "execution_count": 23,
   "id": "9f1fb9ab-9cd8-49f7-9767-80eab5a6f380",
   "metadata": {},
   "outputs": [
    {
     "data": {
      "text/plain": [
       "2000"
      ]
     },
     "execution_count": 23,
     "metadata": {},
     "output_type": "execute_result"
    }
   ],
   "source": [
    "len(X_test)"
   ]
  },
  {
   "cell_type": "code",
   "execution_count": 24,
   "id": "7d10ff94-481d-4464-b6f7-265ea815378a",
   "metadata": {},
   "outputs": [
    {
     "name": "stdout",
     "output_type": "stream",
     "text": [
      "Epoch 1/20\n"
     ]
    },
    {
     "name": "stderr",
     "output_type": "stream",
     "text": [
      "2025-05-12 22:44:28.895209: W external/local_xla/xla/tsl/framework/cpu_allocator_impl.cc:83] Allocation of 122880000 exceeds 10% of free system memory.\n"
     ]
    },
    {
     "name": "stdout",
     "output_type": "stream",
     "text": [
      "\u001b[1m  4/157\u001b[0m \u001b[37m━━━━━━━━━━━━━━━━━━━━\u001b[0m \u001b[1m7s\u001b[0m 50ms/step - auc: 0.4815 - loss: 0.6981"
     ]
    },
    {
     "name": "stderr",
     "output_type": "stream",
     "text": [
      "2025-05-12 22:44:30.431149: W external/local_xla/xla/tsl/framework/cpu_allocator_impl.cc:83] Allocation of 19663488 exceeds 10% of free system memory.\n",
      "2025-05-12 22:44:30.433051: W external/local_xla/xla/tsl/framework/cpu_allocator_impl.cc:83] Allocation of 19663488 exceeds 10% of free system memory.\n",
      "2025-05-12 22:44:30.479853: W external/local_xla/xla/tsl/framework/cpu_allocator_impl.cc:83] Allocation of 19663488 exceeds 10% of free system memory.\n",
      "2025-05-12 22:44:30.481238: W external/local_xla/xla/tsl/framework/cpu_allocator_impl.cc:83] Allocation of 19663488 exceeds 10% of free system memory.\n"
     ]
    },
    {
     "name": "stdout",
     "output_type": "stream",
     "text": [
      "\u001b[1m157/157\u001b[0m \u001b[32m━━━━━━━━━━━━━━━━━━━━\u001b[0m\u001b[37m\u001b[0m \u001b[1m9s\u001b[0m 50ms/step - auc: 0.5927 - loss: 0.6770 - val_auc: 0.7083 - val_loss: 0.6301\n",
      "Epoch 2/20\n",
      "\u001b[1m157/157\u001b[0m \u001b[32m━━━━━━━━━━━━━━━━━━━━\u001b[0m\u001b[37m\u001b[0m \u001b[1m7s\u001b[0m 46ms/step - auc: 0.7113 - loss: 0.6188 - val_auc: 0.7718 - val_loss: 0.5952\n",
      "Epoch 3/20\n",
      "\u001b[1m157/157\u001b[0m \u001b[32m━━━━━━━━━━━━━━━━━━━━\u001b[0m\u001b[37m\u001b[0m \u001b[1m8s\u001b[0m 48ms/step - auc: 0.7830 - loss: 0.5607 - val_auc: 0.7983 - val_loss: 0.5692\n",
      "Epoch 4/20\n",
      "\u001b[1m157/157\u001b[0m \u001b[32m━━━━━━━━━━━━━━━━━━━━\u001b[0m\u001b[37m\u001b[0m \u001b[1m7s\u001b[0m 46ms/step - auc: 0.7996 - loss: 0.5419 - val_auc: 0.8100 - val_loss: 0.5287\n",
      "Epoch 5/20\n",
      "\u001b[1m157/157\u001b[0m \u001b[32m━━━━━━━━━━━━━━━━━━━━\u001b[0m\u001b[37m\u001b[0m \u001b[1m8s\u001b[0m 48ms/step - auc: 0.8276 - loss: 0.5099 - val_auc: 0.8253 - val_loss: 0.5096\n",
      "Epoch 6/20\n",
      "\u001b[1m157/157\u001b[0m \u001b[32m━━━━━━━━━━━━━━━━━━━━\u001b[0m\u001b[37m\u001b[0m \u001b[1m10s\u001b[0m 47ms/step - auc: 0.8450 - loss: 0.4851 - val_auc: 0.8287 - val_loss: 0.5298\n",
      "Epoch 7/20\n",
      "\u001b[1m157/157\u001b[0m \u001b[32m━━━━━━━━━━━━━━━━━━━━\u001b[0m\u001b[37m\u001b[0m \u001b[1m7s\u001b[0m 46ms/step - auc: 0.8682 - loss: 0.4528 - val_auc: 0.8306 - val_loss: 0.5072\n",
      "Epoch 8/20\n",
      "\u001b[1m157/157\u001b[0m \u001b[32m━━━━━━━━━━━━━━━━━━━━\u001b[0m\u001b[37m\u001b[0m \u001b[1m7s\u001b[0m 47ms/step - auc: 0.8808 - loss: 0.4316 - val_auc: 0.8402 - val_loss: 0.4965\n",
      "Epoch 9/20\n",
      "\u001b[1m157/157\u001b[0m \u001b[32m━━━━━━━━━━━━━━━━━━━━\u001b[0m\u001b[37m\u001b[0m \u001b[1m7s\u001b[0m 46ms/step - auc: 0.8894 - loss: 0.4171 - val_auc: 0.8464 - val_loss: 0.4904\n",
      "Epoch 10/20\n",
      "\u001b[1m157/157\u001b[0m \u001b[32m━━━━━━━━━━━━━━━━━━━━\u001b[0m\u001b[37m\u001b[0m \u001b[1m10s\u001b[0m 46ms/step - auc: 0.9099 - loss: 0.3816 - val_auc: 0.8407 - val_loss: 0.5050\n",
      "Epoch 11/20\n",
      "\u001b[1m157/157\u001b[0m \u001b[32m━━━━━━━━━━━━━━━━━━━━\u001b[0m\u001b[37m\u001b[0m \u001b[1m7s\u001b[0m 45ms/step - auc: 0.9224 - loss: 0.3553 - val_auc: 0.8425 - val_loss: 0.4976\n",
      "Epoch 12/20\n",
      "\u001b[1m157/157\u001b[0m \u001b[32m━━━━━━━━━━━━━━━━━━━━\u001b[0m\u001b[37m\u001b[0m \u001b[1m10s\u001b[0m 45ms/step - auc: 0.9349 - loss: 0.3303 - val_auc: 0.8456 - val_loss: 0.5394\n",
      "Epoch 13/20\n",
      "\u001b[1m157/157\u001b[0m \u001b[32m━━━━━━━━━━━━━━━━━━━━\u001b[0m\u001b[37m\u001b[0m \u001b[1m10s\u001b[0m 45ms/step - auc: 0.9404 - loss: 0.3155 - val_auc: 0.8436 - val_loss: 0.5592\n",
      "Epoch 14/20\n",
      "\u001b[1m157/157\u001b[0m \u001b[32m━━━━━━━━━━━━━━━━━━━━\u001b[0m\u001b[37m\u001b[0m \u001b[1m7s\u001b[0m 44ms/step - auc: 0.9448 - loss: 0.3026 - val_auc: 0.8368 - val_loss: 0.5701\n",
      "Epoch 15/20\n",
      "\u001b[1m157/157\u001b[0m \u001b[32m━━━━━━━━━━━━━━━━━━━━\u001b[0m\u001b[37m\u001b[0m \u001b[1m7s\u001b[0m 46ms/step - auc: 0.9607 - loss: 0.2596 - val_auc: 0.8455 - val_loss: 0.5764\n",
      "Epoch 16/20\n",
      "\u001b[1m157/157\u001b[0m \u001b[32m━━━━━━━━━━━━━━━━━━━━\u001b[0m\u001b[37m\u001b[0m \u001b[1m7s\u001b[0m 45ms/step - auc: 0.9669 - loss: 0.2413 - val_auc: 0.8376 - val_loss: 0.6198\n",
      "Epoch 17/20\n",
      "\u001b[1m157/157\u001b[0m \u001b[32m━━━━━━━━━━━━━━━━━━━━\u001b[0m\u001b[37m\u001b[0m \u001b[1m10s\u001b[0m 46ms/step - auc: 0.9759 - loss: 0.2079 - val_auc: 0.8310 - val_loss: 0.6451\n",
      "Epoch 18/20\n",
      "\u001b[1m157/157\u001b[0m \u001b[32m━━━━━━━━━━━━━━━━━━━━\u001b[0m\u001b[37m\u001b[0m \u001b[1m7s\u001b[0m 44ms/step - auc: 0.9793 - loss: 0.1938 - val_auc: 0.8319 - val_loss: 0.6489\n",
      "Epoch 19/20\n",
      "\u001b[1m157/157\u001b[0m \u001b[32m━━━━━━━━━━━━━━━━━━━━\u001b[0m\u001b[37m\u001b[0m \u001b[1m10s\u001b[0m 43ms/step - auc: 0.9826 - loss: 0.1783 - val_auc: 0.8358 - val_loss: 0.6892\n",
      "Epoch 20/20\n",
      "\u001b[1m157/157\u001b[0m \u001b[32m━━━━━━━━━━━━━━━━━━━━\u001b[0m\u001b[37m\u001b[0m \u001b[1m7s\u001b[0m 44ms/step - auc: 0.9913 - loss: 0.1358 - val_auc: 0.8303 - val_loss: 0.7028\n"
     ]
    }
   ],
   "source": [
    "history = model.fit(X_train, y_train,\n",
    "                    epochs=20,\n",
    "                    batch_size=64,\n",
    "                    validation_data=(X_test, y_test))"
   ]
  },
  {
   "cell_type": "code",
   "execution_count": 25,
   "id": "b36ccd4e-9749-42b9-ac94-ad1ac6cd5d67",
   "metadata": {},
   "outputs": [
    {
     "name": "stdout",
     "output_type": "stream",
     "text": [
      "\u001b[1m17/63\u001b[0m \u001b[32m━━━━━\u001b[0m\u001b[37m━━━━━━━━━━━━━━━\u001b[0m \u001b[1m0s\u001b[0m 7ms/step"
     ]
    },
    {
     "name": "stdout",
     "output_type": "stream",
     "text": [
      "\u001b[1m63/63\u001b[0m \u001b[32m━━━━━━━━━━━━━━━━━━━━\u001b[0m\u001b[37m\u001b[0m \u001b[1m1s\u001b[0m 8ms/step\n",
      "AUC Score: 0.8320\n"
     ]
    },
    {
     "data": {
      "image/png": "[encoded data removed]",
      "text/plain": [
       "<Figure size 800x600 with 1 Axes>"
      ]
     },
     "metadata": {},
     "output_type": "display_data"
    }
   ],
   "source": [
    "# Predicciones de probabilidad\n",
    "y_proba = model.predict(X_test).flatten()\n",
    "\n",
    "# Cálculo de la métrica AUC\n",
    "auc_score = roc_auc_score(y_test, y_proba)\n",
    "print(f\"AUC Score: {auc_score:.4f}\")\n",
    "\n",
    "# Curva ROC\n",
    "fpr, tpr, thresholds = roc_curve(y_test, y_proba)\n",
    "\n",
    "plt.figure(figsize=(8, 6))\n",
    "plt.plot(fpr, tpr, label=f'ROC Curve (AUC = {auc_score:.4f})')\n",
    "plt.plot([0, 1], [0, 1], 'k--', label='Random')\n",
    "plt.xlabel('False Positive Rate')\n",
    "plt.ylabel('True Positive Rate')\n",
    "plt.title('ROC Curve: Clasificador Gato vs Perro')\n",
    "plt.legend()\n",
    "plt.grid(True)\n",
    "plt.show()"
   ]
  },
  {
   "cell_type": "code",
   "execution_count": null,
   "id": "925d4564-e58d-4348-a135-bde81f9555ff",
   "metadata": {},
   "outputs": [],
   "source": []
  }
 ],
 "metadata": {
  "kernelspec": {
   "display_name": ".venv",
   "language": "python",
   "name": "python3"
  },
  "language_info": {
   "codemirror_mode": {
    "name": "ipython",
    "version": 3
   },
   "file_extension": ".py",
   "mimetype": "text/x-python",
   "name": "python",
   "nbconvert_exporter": "python",
   "pygments_lexer": "ipython3",
   "version": "3.11.4"
  }
 },
 "nbformat": 4,
 "nbformat_minor": 5
}
